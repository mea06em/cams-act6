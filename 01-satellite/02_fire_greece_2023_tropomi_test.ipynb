{
 "cells": [
  {
   "cell_type": "markdown",
   "metadata": {
    "tags": [
     "test",
     "logo"
    ]
   },
   "source": [
    "[![logo](https://raw.githubusercontent.com/ecmwf-training/cams-act6/main/images/logoline.png)](https://atmosphere.copernicus.eu/6th-ecmwf-cams-esa-eumetsat-training-atmospheric-composition)"
   ]
  },
  {
   "cell_type": "markdown",
   "metadata": {},
   "source": [
    "# Discover Greek Fires in 2023 Part 2 - Sentinel-5P TROPOMI"
   ]
  },
  {
   "cell_type": "markdown",
   "metadata": {},
   "source": [
    "**Run the tutorial via free cloud platforms, please note please only use google colab for this lab**: \n",
    "[![colab](https://colab.research.google.com/assets/colab-badge.svg)](https://colab.research.google.com/github/ecmwf-training/cams-act6/blob/main/01-satellite/02_fire_greece_2023_tropomi.ipynb)\n"
   ]
  },
  {
   "cell_type": "markdown",
   "metadata": {},
   "source": [
    "## Investigating Sentinel-5P products over fires"
   ]
  },
  {
   "cell_type": "markdown",
   "metadata": {
    "tags": []
   },
   "source": [
    "We've seen multiple satellite products from multiple instruments showing the emissions of the Greek fires, but what about from the Shortwave infrared (SWIR) channels of Sentinel-5P TROPOMI? The sensitivity of TROPOMI in the SWIR allows for sensitivity at the surface!\n",
    "\n",
    "For more information about Sentinel-5P, please follow this link. [here](https://www.esa.int/Applications/Observing_the_Earth/Copernicus/Sentinel-5P)"
   ]
  },
  {
   "cell_type": "markdown",
   "metadata": {},
   "source": [
    "First things first, as with the last exercise we first need to install the required libraries"
   ]
  },
  {
   "cell_type": "markdown",
   "metadata": {},
   "source": [
    "## Initial setup"
   ]
  },
  {
   "cell_type": "markdown",
   "metadata": {},
   "source": [
    "Before we begin, again we must install appropriate packages"
   ]
  },
  {
   "cell_type": "code",
   "execution_count": 1,
   "metadata": {},
   "outputs": [],
   "source": [
    "# Installing standard packages\n",
    "import sys\n",
    "!{sys.executable} -m pip install cartopy netCDF4 h5netcdf pandas sentinelsat\n"
   ]
  },
  {
   "cell_type": "code",
   "execution_count": null,
   "metadata": {},
   "outputs": [],
   "source": [
    "# Installing special package for colab\n",
    "# The kernal may crash, if it does, just re-run this code and you should get a 'everything looks ok!' message\n",
    "\n",
    "!pip install -q condacolab\n",
    "import condacolab\n",
    "condacolab.install()"
   ]
  },
  {
   "cell_type": "code",
   "execution_count": null,
   "metadata": {},
   "outputs": [],
   "source": [
    "# Installing a specific package called HARP\n",
    "!conda install -c conda-forge harp"
   ]
  },
  {
   "cell_type": "markdown",
   "metadata": {},
   "source": [
    "### What's HARP?"
   ]
  },
  {
   "cell_type": "markdown",
   "metadata": {},
   "source": [
    "HARP is a toolkit for reading, processing and inter-comparing satellite remote sensing data, model data, in-situ data, and ground based remote sensing data. We will be using it in this tutorial to show how we can visualise and interact with TROPOMI data using this toolset.\n",
    "\n",
    "More information on HARP, and other related tools, including a visulisation engine, can be found at the following link.\n",
    "\n",
    "https://atmospherictoolbox.org/harp/"
   ]
  },
  {
   "cell_type": "markdown",
   "metadata": {},
   "source": [
    "### Import libraries"
   ]
  },
  {
   "cell_type": "code",
   "execution_count": 3,
   "metadata": {},
   "outputs": [],
   "source": [
    "import pandas as pd \n",
    "import numpy as np\n",
    "import numpy.ma as ma\n",
    "import matplotlib.colors \n",
    "import matplotlib.pyplot as plt \n",
    "import cartopy as cartopy\n",
    "import cartopy.crs as ccrs\n",
    "import cartopy.feature as cfeature\n",
    "import harp  \n",
    "import os\n",
    "import glob\n",
    "import matplotlib.dates as mdates\n",
    "from sentinelsat import SentinelAPI, read_geojson, geojson_to_wkt\n",
    "from datetime import date\n",
    "import os\n",
    "from collections import OrderedDict\n",
    "import matplotlib.dates as mdates\n",
    "import matplotlib.ticker as mticker\n",
    "import datetime\n",
    "import netCDF4 as nc # netcdf module\n",
    "from netCDF4 import Dataset\n",
    "import cartopy.crs as ccrs\n",
    "import cartopy.feature as cfeature\n",
    "import harp\n",
    "import os"
   ]
  },
  {
   "cell_type": "markdown",
   "metadata": {},
   "source": [
    "## Explore and download data"
   ]
  },
  {
   "cell_type": "markdown",
   "metadata": {},
   "source": [
    "TROPOMI data can be downloaded from the following website, along with all data related to the Sentinel missions (e.g. https://browser.dataspace.copernicus.eu/?zoom=5&lat=50.16282&lng=20.78613&themeId=DEFAULT-THEME&visualizationUrl=U2FsdGVkX1%2BLwdgaskkUVJwvodexvJCLK8IzPaZKlYR0klXZJBR2E3PMOATjUOAhkq%2F66XsJfMcrq42iRuRaBGllHm%2FKV08mAeffaqJyZtj8F9je7la0SEppSOBss6nb&datasetId=S2_L2A_CDAS&demSource3D=%22MAPZEN%22&cloudCoverage=30&dateMode=SINGLE) \n",
    "\n",
    "\n",
    "**However, for the sake of time, we are only using a small dataset, please download from the following link.**\n",
    "\n",
    "https://drive.google.com/drive/folders/1yquX3uuudYrp8oXWrFyE7QHUZ9P5jyFb\n",
    "\n",
    "There should be three files:\n",
    "NO2, CO, AER_AI\n",
    "\n",
    "Download the data into an appropriate folder on your machine"
   ]
  },
  {
   "cell_type": "markdown",
   "metadata": {},
   "source": [
    "## Then upload the data onto the google drive, you can do this by pressing the folder icon on the left.\n",
    "You then copy the data onto the list, there are obviously more efficent ways of doing this, but here we are contrasting the data downloaded using Domenika's method with quick inspection of a small dataset."
   ]
  },
  {
   "cell_type": "markdown",
   "metadata": {},
   "source": [
    "## Inspect data"
   ]
  },
  {
   "cell_type": "markdown",
   "metadata": {},
   "source": [
    "Grid TROPOMI data at resolution of 0.1 degrees in a specific ROI (34-45 lat, 18-30 lon) using harp tool --> bin_spatial(111,34,0.1, 121,18,0.1)\n",
    "\n",
    "\n",
    "\n"
   ]
  },
  {
   "cell_type": "code",
   "execution_count": 8,
   "metadata": {},
   "outputs": [],
   "source": [
    "# Import data using HARP\n",
    "\n",
    "product = harp.import_product(r\"S5P_OFFL_L2__NO2____20230822T105351_20230822T123520_30348_03_020500_20230824T031230.nc\", \n",
    "operations=\"tropospheric_NO2_column_number_density_validity>75;keep(latitude_bounds,longitude_bounds,tropospheric_NO2_column_number_density,cloud_fraction,surface_zonal_wind_velocity,surface_meridional_wind_velocity);bin_spatial(111,34,0.1, 121,18,0.1);derive(tropospheric_NO2_column_number_density [Pmolec/cm2])\",\n",
    "post_operations= \"bin();squash(time, (latitude_bounds,longitude_bounds));derive(latitude {latitude});derive(longitude {longitude});exclude(latitude_bounds,longitude_bounds,latitude_bounds_weight,longitude_bounds_weight,count,weight)\")\n",
    "\n",
    "# Grab wind and NO2 data with the spatial bounds, and place onto a grid\n",
    "u1= product.surface_zonal_wind_velocity.data[0,:]\n",
    "v1=product.surface_meridional_wind_velocity.data[0,:]\n",
    "no2= product.tropospheric_NO2_column_number_density.data[0,:]\n",
    "lon1=product.longitude_bounds.data[:,0]\n",
    "lat1=product.latitude_bounds.data[:,0]\n",
    "i_lat1, j_lon1 = np.meshgrid(lat1, lon1, indexing='ij')"
   ]
  },
  {
   "cell_type": "markdown",
   "metadata": {},
   "source": [
    "## Compute the average of wind field every 2 pixel (too noisy plot with the wind for each single pixel)"
   ]
  },
  {
   "cell_type": "code",
   "execution_count": null,
   "metadata": {},
   "outputs": [],
   "source": [
    "u_split1= u1.reshape(55,2,60,2)\n",
    "u_mean1=np.nanmean(u_split1,axis=(1,3))\n",
    "v_split1= v1.reshape(55,2,60,2)\n",
    "v_mean1=np.nanmean(v_split1,axis=(1,3))\n",
    "\n",
    "lon_split1 = j_lon1.reshape(55,2,60,2)\n",
    "lon_mean1 = np.nanmean(lon_split1,axis=(1,3))\n",
    "lat_split1 = i_lat1.reshape(55,2,60,2)\n",
    "lat_mean1 = np.nanmean(lat_split1,axis=(1,3))"
   ]
  },
  {
   "cell_type": "markdown",
   "metadata": {},
   "source": [
    "## Plot NO2 with on top the wind field\n"
   ]
  },
  {
   "cell_type": "code",
   "execution_count": null,
   "metadata": {},
   "outputs": [],
   "source": [
    "plt.figure(figsize=(14, 14))\n",
    "ax = plt.axes(projection=cartopy.crs.PlateCarree(0))\n",
    "ax.gridlines(draw_labels=True)\n",
    "ax.add_feature(cartopy.feature.BORDERS, linestyle='-', alpha=1,lw=1.5)\n",
    "ax.coastlines(resolution='50m', lw=3)\n",
    "ax.gridlines(linestyle='--')\n",
    "ax.set_extent ((18, 30, 34, 45), cartopy.crs.PlateCarree())\n",
    "ax.set_title(\"22 August 2023\")\n",
    "zz = plt.pcolormesh( j_lon1, i_lat1, no2 , cmap='jet', alpha = 0.6,vmin=0, vmax=6)\n",
    "cb = plt.colorbar(zz,orientation=\"horizontal\")\n",
    "q = plt.quiver(lon_mean1,lat_mean1, u_mean1, v_mean1,angles='xy', alpha = 0.4, scale=200)\n",
    "qk = plt.quiverkey(q, 0.5, -0.5, 10, '10 m/s', labelpos='E',coordinates='axes')\n",
    "cb.set_label('NO$_{2}$ [Pmolec cm$^{-2}$]',fontsize =20)\n",
    "plt.show()"
   ]
  },
  {
   "cell_type": "code",
   "execution_count": null,
   "metadata": {},
   "outputs": [],
   "source": [
    "# Grid Aerosol Index data to spot the fires\n",
    "product = harp.import_product(r\"/Users/Administrator/Desktop/ATC6/AI/S5P_OFFL_L2__AER_AI_20230822T105351_20230822T123520_30348_03_020500_20230824T004731.nc\", \n",
    "operations= \"absorbing_aerosol_index_validity>40;keep(latitude_bounds,longitude_bounds,absorbing_aerosol_index);bin_spatial( 111,34,0.1, 121,18,0.1);derive(absorbing_aerosol_index)\",\n",
    "post_operations= \"bin();squash(time, (latitude_bounds,longitude_bounds));derive(latitude {latitude});derive(longitude {longitude});exclude(latitude_bounds,longitude_bounds,latitude_bounds_weight,longitude_bounds_weight,count,weight)\")\n",
    "ai = product.absorbing_aerosol_index.data[:][0,:]"
   ]
  },
  {
   "cell_type": "code",
   "execution_count": null,
   "metadata": {},
   "outputs": [],
   "source": [
    "# Plot Aerosol Index and check if the plume is coherent with the wind field\n",
    "plt.figure(figsize=(12,12))\n",
    "ax = plt.axes(projection=cartopy.crs.PlateCarree(0))\n",
    "ax.gridlines(draw_labels=True)\n",
    "ax.add_feature(cartopy.feature.BORDERS, linestyle='-', alpha=1)\n",
    "ax.coastlines(resolution='50m', lw=3)\n",
    "ax.gridlines(linestyle='--')\n",
    "ax.set_extent ((18, 30, 34, 45), cartopy.crs.PlateCarree())\n",
    "ax.set_title(\"22 August 2023\")\n",
    "zz = plt.pcolormesh( j_lon1, i_lat1, ai, cmap='jet', alpha = 0.6 )\n",
    "q = plt.quiver(lon_mean1,lat_mean1, u_mean1, v_mean1,angles='xy', alpha = 0.4, scale=200)\n",
    "qk = plt.quiverkey(q, 0.5, -0.5, 10, '10 m/s', labelpos='E',coordinates='axes')\n",
    "cb = plt.colorbar(zz,orientation=\"horizontal\")\n",
    "cb.set_label('Aerosol Index',fontsize =15)\n",
    "plt.show()"
   ]
  },
  {
   "cell_type": "code",
   "execution_count": null,
   "metadata": {},
   "outputs": [],
   "source": [
    "# Grid CO data\n",
    "product = harp.import_product(r\"/Users/Administrator/Desktop/ATC6/NO/S5P_OFFL_L2__CO_____20230822T105351_20230822T123520_30348_03_020500_20230824T004722.nc\",\n",
    "operations='CO_column_number_density_validity>50;derive(CO_column_volume_mixing_ratio {time} [ppbv]);keep(latitude_bounds,longitude_bounds,CO_column_volume_mixing_ratio);bin_spatial(111,34,0.1, 121,18,0.1)',\n",
    "post_operations='bin();squash(time, (latitude_bounds,longitude_bounds));derive(latitude {latitude});derive(longitude {longitude});exclude(latitude_bounds,longitude_bounds,latitude_bounds_weight,longitude_bounds_weight,count,weight)')\n",
    "co=product.CO_column_volume_mixing_ratio.data[0,:]"
   ]
  },
  {
   "cell_type": "code",
   "execution_count": null,
   "metadata": {},
   "outputs": [],
   "source": [
    "# Plot the CO and the wind field to detect the fires emissions\n",
    "plt.figure(figsize=(12,12))\n",
    "ax = plt.axes(projection=cartopy.crs.PlateCarree(0))\n",
    "ax.gridlines(draw_labels=True)\n",
    "ax.add_feature(cartopy.feature.BORDERS, linestyle='-', alpha=1)\n",
    "ax.coastlines(resolution='50m', lw=3)\n",
    "ax.gridlines(linestyle='--')\n",
    "ax.set_extent ((18, 30, 34, 45), cartopy.crs.PlateCarree())\n",
    "ax.set_title(\"22 August 2023\")\n",
    "zz = plt.pcolormesh( j_lon1, i_lat1, co, cmap='jet', alpha = 0.6,vmin=75, vmax=350 )\n",
    "q = plt.quiver(lon_mean1,lat_mean1, u_mean1, v_mean1,angles='xy', alpha = 0.4, scale=200)\n",
    "qk = plt.quiverkey(q, 0.5, -0.5, 10, '10 m/s', labelpos='E',coordinates='axes')\n",
    "cb = plt.colorbar(zz,orientation=\"horizontal\")\n",
    "cb.set_label('CO [ppb]',fontsize =15)\n",
    "plt.show()"
   ]
  },
  {
   "cell_type": "markdown",
   "metadata": {},
   "source": [
    "## Try inspecting some of the other data in the S5P files using HARP, some guidence are available at the following weblinks\n",
    "\n",
    "https://stcorp.github.io/harp/doc/html/ingestions/S5P_L2_CO.html\n",
    "\n",
    "https://stcorp.github.io/harp/doc/html/ingestions/S5P_L2_AER_AI.html\n",
    "\n",
    "https://stcorp.github.io/harp/doc/html/ingestions/index.html#s5p-l2-no2"
   ]
  },
  {
   "cell_type": "code",
   "execution_count": null,
   "metadata": {},
   "outputs": [],
   "source": []
  }
 ],
 "metadata": {
  "kernelspec": {
   "display_name": "Python 3 (ipykernel)",
   "language": "python",
   "name": "python3"
  },
  "language_info": {
   "codemirror_mode": {
    "name": "ipython",
    "version": 3
   },
   "file_extension": ".py",
   "mimetype": "text/x-python",
   "name": "python",
   "nbconvert_exporter": "python",
   "pygments_lexer": "ipython3",
   "version": "3.9.13"
  }
 },
 "nbformat": 4,
 "nbformat_minor": 4
}
